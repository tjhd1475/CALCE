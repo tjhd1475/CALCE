{
 "cells": [
  {
   "cell_type": "code",
   "execution_count": 10,
   "id": "4204c7e1",
   "metadata": {
    "ExecuteTime": {
     "end_time": "2025-03-10T05:10:37.144027Z",
     "start_time": "2025-03-10T05:10:36.034327Z"
    }
   },
   "outputs": [],
   "source": [
    "import os\n",
    "import json"
   ]
  },
  {
   "cell_type": "code",
   "execution_count": 11,
   "id": "35d57a49-b477-4912-8563-5ebcdbc2a46a",
   "metadata": {},
   "outputs": [],
   "source": [
    "save_float = False\n",
    "relative_time = False"
   ]
  },
  {
   "cell_type": "code",
   "execution_count": 12,
   "id": "09845339",
   "metadata": {
    "ExecuteTime": {
     "end_time": "2024-10-10T01:38:24.238005Z",
     "start_time": "2024-10-10T01:38:24.228973Z"
    }
   },
   "outputs": [],
   "source": [
    "def save_json(content, save_path):\n",
    "    # if no such directory, create one\n",
    "    if not os.path.exists(os.path.dirname(save_path)):\n",
    "        os.makedirs(os.path.dirname(save_path))\n",
    "    with open(save_path, 'w') as f:\n",
    "        f.write(json.dumps(content))\n",
    "def load_jsonl(filename):\n",
    "    with open(filename, \"r\") as f:\n",
    "        return [json.loads(l.strip(\"\\n\")) for l in f.readlines()]\n",
    "def load_json(filename):\n",
    "    with open(filename, \"r\") as f:\n",
    "        return json.load(f)"
   ]
  },
  {
   "cell_type": "markdown",
   "id": "72e08c6a-f328-4b40-9c75-0f9106098c7c",
   "metadata": {},
   "source": [
    "# QVH"
   ]
  },
  {
   "cell_type": "code",
   "execution_count": 13,
   "id": "191e10e27f1997e5",
   "metadata": {
    "collapsed": false,
    "jupyter": {
     "outputs_hidden": false
    }
   },
   "outputs": [],
   "source": [
    "train_path = '/data2/xiepeiyu/qvhighlights/annotations/highlight_train_release.jsonl'\n",
    "val_path = '/data2/xiepeiyu/qvhighlights/annotations/highlight_val_release.jsonl'\n",
    "test_path = '/data2/xiepeiyu/qvhighlights/annotations/highlight_test_release.jsonl'\n",
    "train_out_path = '../lavis/datasets/annotations/qvh/train.json'\n",
    "val_out_path = '../lavis/datasets/annotations/qvh/val.json'\n",
    "test_out_path = '../lavis/datasets/annotations/qvh/test_dummy.json'\n",
    "\n",
    "train_item_path = '../lavis/datasets/annotations/qvh/items/train.json'\n",
    "val_item_path = '../lavis/datasets/annotations/qvh/items/val.json'\n",
    "test_item_path = '../lavis/datasets/annotations/qvh/items/test.json'"
   ]
  },
  {
   "cell_type": "code",
   "execution_count": 14,
   "id": "507365fc",
   "metadata": {
    "ExecuteTime": {
     "end_time": "2024-10-10T01:38:41.755526Z",
     "start_time": "2024-10-10T01:38:41.729796Z"
    }
   },
   "outputs": [],
   "source": [
    "def process_QVH(in_path, out_path, item_path, relative_time=False, save_float=False, is_test=False):\n",
    "    data = load_jsonl(in_path)\n",
    "    item_anno = load_json(item_path)\n",
    "    new_data = []\n",
    "    for d in data:\n",
    "        sample = {}\n",
    "        sample['video'] = d['vid']\n",
    "        sample['qid'] = 'QVHighlight_' + str(d['qid'])\n",
    "        sample['query'] = d['query']\n",
    "        duration = d['duration']\n",
    "        sample['duration'] = duration\n",
    "        sample['items'] = item_anno[sample['qid']]['items']\n",
    "\n",
    "        if not is_test:\n",
    "            windows = d['relevant_windows']\n",
    "            if relative_time:\n",
    "                relative_time_windows = []\n",
    "                for window in windows:\n",
    "                    start = window[0] / duration\n",
    "                    end = window[1] / duration\n",
    "\n",
    "                    if save_float:\n",
    "                        relative_time_windows.append([round(start, 2), round(end, 2)])\n",
    "                    else:\n",
    "                        relative_time_windows.append([int(round(start, 2) * 100), int(round(end, 2) * 100)])\n",
    "                sample['relevant_windows'] = relative_time_windows\n",
    "            else:\n",
    "                sample['relevant_windows'] = windows\n",
    "        else:\n",
    "            sample['relevant_windows'] = [[0, 150]] # dummy value\n",
    "\n",
    "        new_data.append(sample)\n",
    "\n",
    "    save_json(new_data, out_path)"
   ]
  },
  {
   "cell_type": "code",
   "execution_count": 15,
   "id": "0f9754fc",
   "metadata": {
    "ExecuteTime": {
     "end_time": "2024-10-10T01:38:43.972921Z",
     "start_time": "2024-10-10T01:38:43.912751Z"
    }
   },
   "outputs": [],
   "source": [
    "process_QVH(train_path,train_out_path, train_item_path, relative_time=relative_time, save_float=save_float)\n",
    "process_QVH(val_path,val_out_path, val_item_path,  relative_time=relative_time, save_float=save_float)\n",
    "process_QVH(test_path,test_out_path, test_item_path, relative_time=relative_time, save_float=save_float, is_test=True)"
   ]
  },
  {
   "cell_type": "markdown",
   "id": "5151075f",
   "metadata": {},
   "source": [
    "# Charades"
   ]
  },
  {
   "cell_type": "code",
   "execution_count": 16,
   "id": "4e45ddec",
   "metadata": {},
   "outputs": [],
   "source": [
    "train_path = '/data2/xiepeiyu/Charades-STA/annotations/lavis/charades_sta_train_tvr_format.jsonl'\n",
    "test_path  = '/data2/xiepeiyu/Charades-STA/annotations/lavis/charades_sta_test_tvr_format.jsonl'\n",
    "train_out_path = '../lavis/datasets/annotations/charades/train.json'\n",
    "test_out_path = '../lavis/datasets/annotations/charades/test.json'\n",
    "\n",
    "train_item_path = '../lavis/datasets/annotations/charades/items/train.json'\n",
    "test_item_path = '../lavis/datasets/annotations/charades/items/test.json'"
   ]
  },
  {
   "cell_type": "code",
   "execution_count": 17,
   "id": "7ffed24d-40a0-45f2-bc6f-b5b32656c727",
   "metadata": {},
   "outputs": [],
   "source": [
    "def process_charades(in_path, out_path, item_path, save_float=False, is_test=False):\n",
    "    data = load_jsonl(in_path)\n",
    "    item_anno = load_json(item_path)\n",
    "    new_data = []\n",
    "    for d in data:\n",
    "        relevant_windows = d['relevant_windows']\n",
    "        for i, relevant_window in enumerate(relevant_windows):\n",
    "            if save_float or is_test:\n",
    "                relevant_window = [float(relevant_window[0]), float(relevant_window[1])]\n",
    "            else:\n",
    "                relevant_window = [round(float(relevant_window[0])), round(float(relevant_window[1]))]\n",
    "            relevant_windows[i] = relevant_window\n",
    "        qid = 'Charades_'+ str(d['qid'])\n",
    "        sample = {\n",
    "            'qid': qid,\n",
    "            'video': d['vid'],\n",
    "            'duration': round(float(d['duration'])),\n",
    "            'relevant_windows': relevant_windows,\n",
    "            'query': d['query'],\n",
    "            'items': item_anno[qid]['items']\n",
    "        }\n",
    "        new_data.append(sample)\n",
    "    save_json(new_data,out_path)"
   ]
  },
  {
   "cell_type": "code",
   "execution_count": 19,
   "id": "e253e96d",
   "metadata": {},
   "outputs": [],
   "source": [
    "process_charades(train_path,train_out_path, train_item_path, save_float=save_float)\n",
    "process_charades(test_path,test_out_path, test_item_path, save_float=save_float, is_test=True)"
   ]
  }
 ],
 "metadata": {
  "kernelspec": {
   "display_name": "Python 3 (ipykernel)",
   "language": "python",
   "name": "python3"
  },
  "language_info": {
   "codemirror_mode": {
    "name": "ipython",
    "version": 3
   },
   "file_extension": ".py",
   "mimetype": "text/x-python",
   "name": "python",
   "nbconvert_exporter": "python",
   "pygments_lexer": "ipython3",
   "version": "3.8.20"
  }
 },
 "nbformat": 4,
 "nbformat_minor": 5
}
